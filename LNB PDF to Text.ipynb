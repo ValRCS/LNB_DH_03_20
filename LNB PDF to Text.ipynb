{
 "cells": [
  {
   "cell_type": "code",
   "execution_count": null,
   "metadata": {},
   "outputs": [],
   "source": [
    "# wrapper for pdftotext (works best out of all the different libraries)\n",
    "# https://github.com/jalan/pdftotext"
   ]
  },
  {
   "cell_type": "code",
   "execution_count": null,
   "metadata": {},
   "outputs": [],
   "source": [
    "# Windows\n",
    "# from Anaconda prompt\n",
    "# conda install -c conda-forge poppler"
   ]
  },
  {
   "cell_type": "code",
   "execution_count": null,
   "metadata": {},
   "outputs": [],
   "source": [
    "# Debian, Ubuntu etc\n",
    "# sudo apt install build-essential libpoppler-cpp-dev pkg-config python3-dev"
   ]
  },
  {
   "cell_type": "code",
   "execution_count": null,
   "metadata": {},
   "outputs": [],
   "source": [
    "url = \"https://dom.lndb.lv/data/obj/file/258454.pdf\""
   ]
  },
  {
   "cell_type": "code",
   "execution_count": null,
   "metadata": {},
   "outputs": [],
   "source": [
    "import requests\n",
    "import shutil\n",
    "\n",
    "# fastest for large files\n",
    "# https://stackoverflow.com/questions/16694907/download-large-file-in-python-with-requests\n",
    "def download_file(url, local_filename=None, verify=False):\n",
    "    if not local_filename:\n",
    "        local_filename = url.split('/')[-1]\n",
    "    with requests.get(url, stream=True, verify=verify) as r:\n",
    "        with open(local_filename, 'wb') as f:\n",
    "            shutil.copyfileobj(r.raw, f)\n",
    "\n",
    "    return local_filename"
   ]
  },
  {
   "cell_type": "code",
   "execution_count": null,
   "metadata": {},
   "outputs": [],
   "source": [
    "# monkey patching shouldn't be needed avoid if possible\n",
    "# import ssl\n",
    "# ssl.match_hostname = lambda cert, hostname: True"
   ]
  },
  {
   "cell_type": "code",
   "execution_count": null,
   "metadata": {},
   "outputs": [],
   "source": [
    "download_file(url) # LNB cert is not setup correctly so we do not verify it"
   ]
  },
  {
   "cell_type": "code",
   "execution_count": null,
   "metadata": {},
   "outputs": [],
   "source": [
    "# installation will require also VS Build Tools on Windows\n",
    "# https://pypi.org/project/pdftotext/\n",
    "# some conda versions on Windows have problems with solving the enviroment\n",
    "# !pip install pdftotext"
   ]
  },
  {
   "cell_type": "code",
   "execution_count": 8,
   "metadata": {},
   "outputs": [],
   "source": [
    "import pdftotext\n",
    "import os"
   ]
  },
  {
   "cell_type": "code",
   "execution_count": 2,
   "metadata": {},
   "outputs": [],
   "source": [
    "with open(\"258454.pdf\", \"rb\") as f:\n",
    "    pdf = pdftotext.PDF(f)"
   ]
  },
  {
   "cell_type": "code",
   "execution_count": 3,
   "metadata": {},
   "outputs": [
    {
     "data": {
      "text/plain": [
       "105"
      ]
     },
     "execution_count": 3,
     "metadata": {},
     "output_type": "execute_result"
    }
   ],
   "source": [
    "len(pdf)"
   ]
  },
  {
   "cell_type": "code",
   "execution_count": 4,
   "metadata": {},
   "outputs": [
    {
     "data": {
      "text/plain": [
       "pdftotext.PDF"
      ]
     },
     "execution_count": 4,
     "metadata": {},
     "output_type": "execute_result"
    }
   ],
   "source": [
    "type(pdf)"
   ]
  },
  {
   "cell_type": "code",
   "execution_count": 5,
   "metadata": {},
   "outputs": [
    {
     "name": "stdout",
     "output_type": "stream",
     "text": [
      " RAIŅA\r\n",
      "ZELTA ZIRGS\r\n",
      "\n",
      "MM5 lMWW\n"
     ]
    }
   ],
   "source": [
    "\n",
    "# Read some individual pages\n",
    "print(pdf[0])\n",
    "print(pdf[1])"
   ]
  },
  {
   "cell_type": "code",
   "execution_count": null,
   "metadata": {},
   "outputs": [],
   "source": [
    "# Iterate over all the pages\n",
    "for page in pdf:\n",
    "    print(page)"
   ]
  },
  {
   "cell_type": "code",
   "execution_count": null,
   "metadata": {},
   "outputs": [],
   "source": [
    "# Read all the text into one string\n",
    "print(\"\\n\\n\".join(pdf))"
   ]
  },
  {
   "cell_type": "code",
   "execution_count": 7,
   "metadata": {},
   "outputs": [],
   "source": [
    "# Lets save our text\n",
    "with open(\"258454.pdf\", mode='w', encoding='utf-8') as f:\n",
    "    f.write(\"\\n\\n\".join(pdf))\n",
    "\n",
    "\n"
   ]
  },
  {
   "cell_type": "code",
   "execution_count": 12,
   "metadata": {},
   "outputs": [
    {
     "data": {
      "text/plain": [
       "(('Badac.aha.interesting', '.pdf'),\n",
       " ('c:/adfadfad/adfadfad/Badac.aha.interesting', '.pdf'))"
      ]
     },
     "execution_count": 12,
     "metadata": {},
     "output_type": "execute_result"
    }
   ],
   "source": [
    "fname = \"c:/adfadfad/adfadfad/Badac.aha.interesting.pdf\"\n",
    "os.path.splitext(os.path.basename(fname)), os.path.splitext(fname)"
   ]
  },
  {
   "cell_type": "code",
   "execution_count": null,
   "metadata": {},
   "outputs": [],
   "source": []
  },
  {
   "cell_type": "code",
   "execution_count": 17,
   "metadata": {},
   "outputs": [],
   "source": [
    "def pdf2txt(pdfname, txtname=None):\n",
    "    if not txtname:\n",
    "        txtname = os.path.splitext(pdfname)[0] + \".txt\"\n",
    "    with open(pdfname, \"rb\") as f:\n",
    "        pdf = pdftotext.PDF(f)\n",
    "    with open(txtname, mode=\"w\", encoding='utf-8') as f:\n",
    "        f.write(\"\\f\".join(pdf)) # form feed is more semantic than \"\\n\\n\""
   ]
  },
  {
   "cell_type": "code",
   "execution_count": 18,
   "metadata": {},
   "outputs": [],
   "source": [
    "pdf2txt(\"ZeltaZirgs.pdf\")"
   ]
  },
  {
   "cell_type": "code",
   "execution_count": 20,
   "metadata": {},
   "outputs": [],
   "source": [
    "pdf2txt(r\"C:\\Users\\vsaules\\temp\\pdf\\Lapskalnu_Jaunais-meschkungs_frak_lv.pdf\") # need r for raw string unless we want \\\\ everything for windows"
   ]
  }
 ],
 "metadata": {
  "kernelspec": {
   "display_name": "Python 3",
   "language": "python",
   "name": "python3"
  },
  "language_info": {
   "codemirror_mode": {
    "name": "ipython",
    "version": 3
   },
   "file_extension": ".py",
   "mimetype": "text/x-python",
   "name": "python",
   "nbconvert_exporter": "python",
   "pygments_lexer": "ipython3",
   "version": "3.7.6"
  }
 },
 "nbformat": 4,
 "nbformat_minor": 2
}
