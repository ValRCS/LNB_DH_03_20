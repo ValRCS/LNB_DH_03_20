{
 "cells": [
  {
   "cell_type": "code",
   "execution_count": 1,
   "metadata": {},
   "outputs": [],
   "source": [
    "# wrapper for pdftotext (works best out of all the different libraries)\n",
    "# https://github.com/jalan/pdftotext"
   ]
  },
  {
   "cell_type": "code",
   "execution_count": null,
   "metadata": {},
   "outputs": [],
   "source": [
    "# Windows\n",
    "# from Anaconda prompt\n",
    "# conda install -c conda-forge poppler"
   ]
  },
  {
   "cell_type": "code",
   "execution_count": null,
   "metadata": {},
   "outputs": [],
   "source": [
    "# Debian, Ubuntu etc\n",
    "# sudo apt install build-essential libpoppler-cpp-dev pkg-config python3-dev"
   ]
  },
  {
   "cell_type": "code",
   "execution_count": 1,
   "metadata": {},
   "outputs": [],
   "source": [
    "url = \"https://dom.lndb.lv/data/obj/file/258454.pdf\""
   ]
  },
  {
   "cell_type": "code",
   "execution_count": 2,
   "metadata": {},
   "outputs": [],
   "source": [
    "import requests\n",
    "import shutil\n",
    "\n",
    "# fastest for large files\n",
    "# https://stackoverflow.com/questions/16694907/download-large-file-in-python-with-requests\n",
    "def download_file(url, local_filename=None, verify=False):\n",
    "    if not local_filename:\n",
    "        local_filename = url.split('/')[-1]\n",
    "    with requests.get(url, stream=True, verify=verify) as r:\n",
    "        with open(local_filename, 'wb') as f:\n",
    "            shutil.copyfileobj(r.raw, f)\n",
    "\n",
    "    return local_filename"
   ]
  },
  {
   "cell_type": "code",
   "execution_count": 3,
   "metadata": {},
   "outputs": [],
   "source": [
    "# monkey patching shouldn't be needed avoid if possible\n",
    "# import ssl\n",
    "# ssl.match_hostname = lambda cert, hostname: True"
   ]
  },
  {
   "cell_type": "code",
   "execution_count": 4,
   "metadata": {},
   "outputs": [
    {
     "name": "stderr",
     "output_type": "stream",
     "text": [
      "C:\\Users\\vsaules\\AppData\\Local\\Continuum\\anaconda3\\lib\\site-packages\\urllib3\\connectionpool.py:1004: InsecureRequestWarning: Unverified HTTPS request is being made to host 'dom.lndb.lv'. Adding certificate verification is strongly advised. See: https://urllib3.readthedocs.io/en/latest/advanced-usage.html#ssl-warnings\n",
      "  InsecureRequestWarning,\n"
     ]
    },
    {
     "data": {
      "text/plain": [
       "'258454.pdf'"
      ]
     },
     "execution_count": 4,
     "metadata": {},
     "output_type": "execute_result"
    }
   ],
   "source": [
    "download_file(url) # LNB cert is not setup correctly so we do not verify it"
   ]
  },
  {
   "cell_type": "code",
   "execution_count": 6,
   "metadata": {},
   "outputs": [
    {
     "name": "stdout",
     "output_type": "stream",
     "text": [
      "Collecting pdftotext\n",
      "  Downloading pdftotext-2.1.4.tar.gz (113 kB)\n",
      "Building wheels for collected packages: pdftotext\n",
      "  Building wheel for pdftotext (setup.py): started\n",
      "  Building wheel for pdftotext (setup.py): finished with status 'error'\n",
      "  Running setup.py clean for pdftotext\n",
      "Failed to build pdftotext\n",
      "Installing collected packages: pdftotext\n",
      "    Running setup.py install for pdftotext: started\n",
      "    Running setup.py install for pdftotext: finished with status 'error'\n"
     ]
    },
    {
     "name": "stderr",
     "output_type": "stream",
     "text": [
      "  ERROR: Command errored out with exit status 1:\n",
      "   command: 'C:\\Users\\vsaules\\AppData\\Local\\Continuum\\anaconda3\\python.exe' -u -c 'import sys, setuptools, tokenize; sys.argv[0] = '\"'\"'C:\\\\Users\\\\vsaules\\\\AppData\\\\Local\\\\Temp\\\\pip-install-hfca09es\\\\pdftotext\\\\setup.py'\"'\"'; __file__='\"'\"'C:\\\\Users\\\\vsaules\\\\AppData\\\\Local\\\\Temp\\\\pip-install-hfca09es\\\\pdftotext\\\\setup.py'\"'\"';f=getattr(tokenize, '\"'\"'open'\"'\"', open)(__file__);code=f.read().replace('\"'\"'\\r\\n'\"'\"', '\"'\"'\\n'\"'\"');f.close();exec(compile(code, __file__, '\"'\"'exec'\"'\"'))' bdist_wheel -d 'C:\\Users\\vsaules\\AppData\\Local\\Temp\\pip-wheel-_a8hdywn'\n",
      "       cwd: C:\\Users\\vsaules\\AppData\\Local\\Temp\\pip-install-hfca09es\\pdftotext\\\n",
      "  Complete output (7 lines):\n",
      "  WARNING: pkg-config not found--guessing at poppler version.\n",
      "           If the build fails, install pkg-config and try again.\n",
      "  running bdist_wheel\n",
      "  running build\n",
      "  running build_ext\n",
      "  building 'pdftotext' extension\n",
      "  error: Microsoft Visual C++ 14.0 is required. Get it with \"Build Tools for Visual Studio\": https://visualstudio.microsoft.com/downloads/\n",
      "  ----------------------------------------\n",
      "  ERROR: Failed building wheel for pdftotext\n",
      "    ERROR: Command errored out with exit status 1:\n",
      "     command: 'C:\\Users\\vsaules\\AppData\\Local\\Continuum\\anaconda3\\python.exe' -u -c 'import sys, setuptools, tokenize; sys.argv[0] = '\"'\"'C:\\\\Users\\\\vsaules\\\\AppData\\\\Local\\\\Temp\\\\pip-install-hfca09es\\\\pdftotext\\\\setup.py'\"'\"'; __file__='\"'\"'C:\\\\Users\\\\vsaules\\\\AppData\\\\Local\\\\Temp\\\\pip-install-hfca09es\\\\pdftotext\\\\setup.py'\"'\"';f=getattr(tokenize, '\"'\"'open'\"'\"', open)(__file__);code=f.read().replace('\"'\"'\\r\\n'\"'\"', '\"'\"'\\n'\"'\"');f.close();exec(compile(code, __file__, '\"'\"'exec'\"'\"'))' install --record 'C:\\Users\\vsaules\\AppData\\Local\\Temp\\pip-record-qwb_km71\\install-record.txt' --single-version-externally-managed --compile --install-headers 'C:\\Users\\vsaules\\AppData\\Local\\Continuum\\anaconda3\\Include\\pdftotext'\n",
      "         cwd: C:\\Users\\vsaules\\AppData\\Local\\Temp\\pip-install-hfca09es\\pdftotext\\\n",
      "    Complete output (7 lines):\n",
      "    WARNING: pkg-config not found--guessing at poppler version.\n",
      "             If the build fails, install pkg-config and try again.\n",
      "    running install\n",
      "    running build\n",
      "    running build_ext\n",
      "    building 'pdftotext' extension\n",
      "    error: Microsoft Visual C++ 14.0 is required. Get it with \"Build Tools for Visual Studio\": https://visualstudio.microsoft.com/downloads/\n",
      "    ----------------------------------------\n",
      "ERROR: Command errored out with exit status 1: 'C:\\Users\\vsaules\\AppData\\Local\\Continuum\\anaconda3\\python.exe' -u -c 'import sys, setuptools, tokenize; sys.argv[0] = '\"'\"'C:\\\\Users\\\\vsaules\\\\AppData\\\\Local\\\\Temp\\\\pip-install-hfca09es\\\\pdftotext\\\\setup.py'\"'\"'; __file__='\"'\"'C:\\\\Users\\\\vsaules\\\\AppData\\\\Local\\\\Temp\\\\pip-install-hfca09es\\\\pdftotext\\\\setup.py'\"'\"';f=getattr(tokenize, '\"'\"'open'\"'\"', open)(__file__);code=f.read().replace('\"'\"'\\r\\n'\"'\"', '\"'\"'\\n'\"'\"');f.close();exec(compile(code, __file__, '\"'\"'exec'\"'\"'))' install --record 'C:\\Users\\vsaules\\AppData\\Local\\Temp\\pip-record-qwb_km71\\install-record.txt' --single-version-externally-managed --compile --install-headers 'C:\\Users\\vsaules\\AppData\\Local\\Continuum\\anaconda3\\Include\\pdftotext' Check the logs for full command output.\n"
     ]
    }
   ],
   "source": [
    "!pip install pdftotext"
   ]
  },
  {
   "cell_type": "code",
   "execution_count": 5,
   "metadata": {},
   "outputs": [
    {
     "ename": "ModuleNotFoundError",
     "evalue": "No module named 'pdftotext'",
     "output_type": "error",
     "traceback": [
      "\u001b[1;31m---------------------------------------------------------------------------\u001b[0m",
      "\u001b[1;31mModuleNotFoundError\u001b[0m                       Traceback (most recent call last)",
      "\u001b[1;32m<ipython-input-5-b47658e7d4bc>\u001b[0m in \u001b[0;36m<module>\u001b[1;34m\u001b[0m\n\u001b[1;32m----> 1\u001b[1;33m \u001b[1;32mimport\u001b[0m \u001b[0mpdftotext\u001b[0m\u001b[1;33m\u001b[0m\u001b[1;33m\u001b[0m\u001b[0m\n\u001b[0m",
      "\u001b[1;31mModuleNotFoundError\u001b[0m: No module named 'pdftotext'"
     ]
    }
   ],
   "source": [
    "import pdftotext"
   ]
  }
 ],
 "metadata": {
  "kernelspec": {
   "display_name": "Python 3",
   "language": "python",
   "name": "python3"
  },
  "language_info": {
   "codemirror_mode": {
    "name": "ipython",
    "version": 3
   },
   "file_extension": ".py",
   "mimetype": "text/x-python",
   "name": "python",
   "nbconvert_exporter": "python",
   "pygments_lexer": "ipython3",
   "version": "3.7.6"
  }
 },
 "nbformat": 4,
 "nbformat_minor": 2
}
