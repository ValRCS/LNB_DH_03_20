{
 "cells": [
  {
   "cell_type": "code",
   "execution_count": 73,
   "metadata": {},
   "outputs": [],
   "source": [
    "# set up libraries\n",
    "import requests\n",
    "import json\n",
    "import codecs\n",
    "from collections import Counter\n",
    "# external libraries\n",
    "# check if additional installation needed\n",
    "import plotly.graph_objects as go\n",
    "import ipywidgets as widgets\n",
    "from ipywidgets import interact, interact_manual, Layout\n"
   ]
  },
  {
   "cell_type": "code",
   "execution_count": 74,
   "metadata": {},
   "outputs": [],
   "source": [
    "# setup global\n",
    "url = \"http://nlp.ailab.lv/api/nlp\"\n",
    "headers = {'content-type': 'application/json'}\n",
    "text = []\n",
    "results = {}"
   ]
  },
  {
   "cell_type": "code",
   "execution_count": 75,
   "metadata": {},
   "outputs": [],
   "source": [
    "def getNLP(url = \"http://nlp.ailab.lv/api/nlp\", data = \\\n",
    "           { \"data\" : { \"text\":\"change me\"},\\\n",
    "            \"steps\":  [\"tokenizer\", \"morpho\", \"parser\", \"ner\"],\\\n",
    "            \"model\": \"default\",\\\n",
    "            \"config\": None},\\\n",
    "           headers = {'content-type': 'application/json'}):\n",
    "    \"\"\"Give a Python object and returns a Python object decoded from JSON\"\"\"\n",
    "#     print(json.dumps(data))\n",
    "    response = requests.post(url, json.dumps(data), headers=headers)\n",
    "    if (response.status_code != 200):        \n",
    "        print(f\"Bad response code: {response.status_code}\")\n",
    "        return None\n",
    "    return response.json()"
   ]
  },
  {
   "cell_type": "code",
   "execution_count": 76,
   "metadata": {},
   "outputs": [],
   "source": [
    "def getData(text, offset=0,limit=None):\n",
    "    if limit:\n",
    "        txt = text[offset:offset+limit]\n",
    "    else:\n",
    "        txt = text[offset:]\n",
    "    return { \"data\" : { \"text\":txt},\\\n",
    "            \"steps\":  [\"tokenizer\", \"morpho\", \"parser\", \"ner\"],\\\n",
    "            \"model\": \"default\",\\\n",
    "            \"config\": None}"
   ]
  },
  {
   "cell_type": "code",
   "execution_count": 77,
   "metadata": {},
   "outputs": [],
   "source": [
    "def filterForms(r=results, upos='NOUN', form='lemma'):\n",
    "    words=[]\n",
    "    for sentence in r['data']['sentences']:\n",
    "        for token in sentence['tokens']:\n",
    "            if token['upos'] == upos:\n",
    "                words.append(token[form])\n",
    "    return words"
   ]
  },
  {
   "cell_type": "code",
   "execution_count": null,
   "metadata": {},
   "outputs": [],
   "source": []
  },
  {
   "cell_type": "code",
   "execution_count": 78,
   "metadata": {},
   "outputs": [
    {
     "data": {
      "text/plain": [
       "{'data': {'text': []},\n",
       " 'steps': ['tokenizer', 'morpho', 'parser', 'ner'],\n",
       " 'model': 'default',\n",
       " 'config': None}"
      ]
     },
     "execution_count": 78,
     "metadata": {},
     "output_type": "execute_result"
    }
   ],
   "source": [
    "getData(text, limit=50)"
   ]
  },
  {
   "cell_type": "code",
   "execution_count": 51,
   "metadata": {},
   "outputs": [
    {
     "data": {
      "application/vnd.jupyter.widget-view+json": {
       "model_id": "854ebf302a5248ac84261ff2e28fe588",
       "version_major": 2,
       "version_minor": 0
      },
      "text/plain": [
       "FileUpload(value={}, accept='.txt', description='Upload .txt file to analyze', layout=Layout(width='220px'))"
      ]
     },
     "metadata": {},
     "output_type": "display_data"
    },
    {
     "data": {
      "application/vnd.jupyter.widget-view+json": {
       "model_id": "5af6d8b1d6d64707890655c99a449168",
       "version_major": 2,
       "version_minor": 0
      },
      "text/plain": [
       "Output()"
      ]
     },
     "metadata": {},
     "output_type": "display_data"
    }
   ],
   "source": [
    "# https://ipywidgets.readthedocs.io/en/latest/examples/Widget%20List.html#File-Upload\n",
    "uploader = widgets.FileUpload(\n",
    "    description = 'Upload .txt file to analyze',\n",
    "    layout=Layout(width='220px'),\n",
    "    accept='.txt',  # Accepted file extension e.g. '.txt', '.pdf', 'image/*', 'image/*,.pdf'\n",
    "    multiple=False  # True to accept multiple files upload else False\n",
    ")\n",
    "output = widgets.Output()\n",
    "display(uploader, output)\n",
    "# [uploaded_file] = uploader.value\n",
    "# print(f\"You've uploaded {uploaded_file}\")\n",
    "# display(int_range, output2)\n",
    "\n",
    "def on_value_change(change):\n",
    "    with output:\n",
    "        global text  #ugly but what can I do\n",
    "        value = change['new']\n",
    "        [uploaded_file] = value\n",
    "        text = codecs.decode(value[uploaded_file]['content'], encoding=\"utf-8\")\n",
    "        tlen = len(text)\n",
    "        bsize = value[uploaded_file]['metadata']['size']\n",
    "        print(f\"You uploaded {uploaded_file}  raw size: {bsize} text length: {tlen}\")\n",
    "\n",
    "uploader.observe(on_value_change, names='value')"
   ]
  },
  {
   "cell_type": "code",
   "execution_count": 79,
   "metadata": {
    "scrolled": true
   },
   "outputs": [
    {
     "data": {
      "text/plain": [
       "258693"
      ]
     },
     "execution_count": 79,
     "metadata": {},
     "output_type": "execute_result"
    }
   ],
   "source": [
    "len(text)"
   ]
  },
  {
   "cell_type": "code",
   "execution_count": 80,
   "metadata": {},
   "outputs": [],
   "source": [
    "def getResults(text, offset, limit):\n",
    "    global results\n",
    "    results = getNLP(data=getData(text, offset, limit))\n",
    "    print(f\"Got results of type {type(results)}\")"
   ]
  },
  {
   "cell_type": "code",
   "execution_count": 81,
   "metadata": {},
   "outputs": [
    {
     "data": {
      "application/vnd.jupyter.widget-view+json": {
       "model_id": "6d5dc8a36af04175a24354af182068c6",
       "version_major": 2,
       "version_minor": 0
      },
      "text/plain": [
       "interactive(children=(IntSlider(value=50, description='offset'), IntSlider(value=30000, description='limit', m…"
      ]
     },
     "metadata": {},
     "output_type": "display_data"
    }
   ],
   "source": [
    "@interact_manual\n",
    "def manResults(offset=(0,100,1), limit=(10000,50000, 500)):\n",
    "    getResults(text, offset, limit)"
   ]
  },
  {
   "cell_type": "code",
   "execution_count": 83,
   "metadata": {
    "scrolled": true
   },
   "outputs": [
    {
     "data": {
      "application/vnd.jupyter.widget-view+json": {
       "model_id": "91418ed3e9a44e7d9f99e0060f38504b",
       "version_major": 2,
       "version_minor": 0
      },
      "text/plain": [
       "interactive(children=(IntSlider(value=0, description='start', max=20, step=40), IntSlider(value=20, descriptio…"
      ]
     },
     "metadata": {},
     "output_type": "display_data"
    }
   ],
   "source": [
    "@interact_manual\n",
    "def showForms(start=(0,20,40), end=20, form=['lemma','form'], upos=['NOUN','VERB','ADJ','ADV']):\n",
    "    words = filterForms(form=form, upos=upos)\n",
    "    cnt = Counter(words)\n",
    "    x = [el[0] for el in cnt.most_common()[start:end]]\n",
    "    y = [el[1] for el in cnt.most_common()[start:end]]\n",
    "    fig = go.Figure(\n",
    "        data=[go.Bar(x=x, y=y)],\n",
    "        layout_title_text=\"Popular lemma\"\n",
    "    )\n",
    "    fig.show()"
   ]
  }
 ],
 "metadata": {
  "kernelspec": {
   "display_name": "Python 3",
   "language": "python",
   "name": "python3"
  },
  "language_info": {
   "codemirror_mode": {
    "name": "ipython",
    "version": 3
   },
   "file_extension": ".py",
   "mimetype": "text/x-python",
   "name": "python",
   "nbconvert_exporter": "python",
   "pygments_lexer": "ipython3",
   "version": "3.7.6"
  }
 },
 "nbformat": 4,
 "nbformat_minor": 4
}
