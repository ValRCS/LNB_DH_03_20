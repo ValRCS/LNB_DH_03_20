{
 "cells": [
  {
   "cell_type": "code",
   "execution_count": 1,
   "metadata": {},
   "outputs": [],
   "source": [
    "# set up libraries\n",
    "import requests\n",
    "import json\n",
    "import codecs\n",
    "from collections import Counter\n",
    "# external libraries\n",
    "# check if additional installation needed\n",
    "import plotly.graph_objects as go\n",
    "import ipywidgets as widgets\n",
    "from ipywidgets import interact, interact_manual, Layout\n"
   ]
  },
  {
   "cell_type": "code",
   "execution_count": 2,
   "metadata": {},
   "outputs": [
    {
     "data": {
      "text/plain": [
       "(7, 5, 1, 'final', 0)"
      ]
     },
     "execution_count": 2,
     "metadata": {},
     "output_type": "execute_result"
    }
   ],
   "source": [
    "widgets.version_info"
   ]
  },
  {
   "cell_type": "code",
   "execution_count": 3,
   "metadata": {},
   "outputs": [],
   "source": [
    "# setup global\n",
    "url = \"http://nlp.ailab.lv/api/nlp\"\n",
    "headers = {'content-type': 'application/json'}\n",
    "text = []\n",
    "results = {}"
   ]
  },
  {
   "cell_type": "code",
   "execution_count": 4,
   "metadata": {},
   "outputs": [],
   "source": [
    "def getNLP(url = \"http://nlp.ailab.lv/api/nlp\", data = \\\n",
    "           { \"data\" : { \"text\":\"change me\"},\\\n",
    "            \"steps\":  [\"tokenizer\", \"morpho\", \"parser\", \"ner\"],\\\n",
    "            \"model\": \"default\",\\\n",
    "            \"config\": None},\\\n",
    "           headers = {'content-type': 'application/json'}):\n",
    "    \"\"\"Give a Python object and returns a Python object decoded from JSON\"\"\"\n",
    "#     print(json.dumps(data))\n",
    "    response = requests.post(url, json.dumps(data), headers=headers)\n",
    "    if (response.status_code != 200):        \n",
    "        print(f\"Bad response code: {response.status_code}\")\n",
    "        return None\n",
    "    return response.json()"
   ]
  },
  {
   "cell_type": "code",
   "execution_count": 5,
   "metadata": {},
   "outputs": [],
   "source": [
    "def getData(text, offset=0,limit=None):\n",
    "    if limit:\n",
    "        txt = text[offset:offset+limit]\n",
    "    else:\n",
    "        txt = text[offset:]\n",
    "    return { \"data\" : { \"text\":txt},\\\n",
    "            \"steps\":  [\"tokenizer\", \"morpho\", \"parser\", \"ner\"],\\\n",
    "            \"model\": \"default\",\\\n",
    "            \"config\": None}"
   ]
  },
  {
   "cell_type": "code",
   "execution_count": null,
   "metadata": {},
   "outputs": [],
   "source": []
  },
  {
   "cell_type": "code",
   "execution_count": 6,
   "metadata": {},
   "outputs": [],
   "source": [
    "def filterForms(r=results, upos='NOUN', form='lemma'):\n",
    "    words=[]\n",
    "    for sentence in r['data']['sentences']:\n",
    "        for token in sentence['tokens']:\n",
    "            if token['upos'] == upos:\n",
    "                words.append(token[form])\n",
    "    return words"
   ]
  },
  {
   "cell_type": "code",
   "execution_count": 19,
   "metadata": {},
   "outputs": [],
   "source": [
    "myj = getNLP(data=getData(\"Kur tu teci, gailīti manu?\"))"
   ]
  },
  {
   "cell_type": "code",
   "execution_count": 20,
   "metadata": {},
   "outputs": [
    {
     "data": {
      "text/plain": [
       "{'data': {'sentences': [{'ner': [],\n",
       "    'tokens': [{'deprel': 'advmod',\n",
       "      'features': 'Šķirkļa_ID=150959|Vārds=Kur|Šķirkļa_cilvēklasāmais_ID=kur|Leksēmas_nr=129960|Avota_pamatforma=kur|Pamatforma=kur|FreeText=apst.|Galotnes_nr=954|Pakāpe=Nepiemīt|Vārdšķira=Apstākļa_vārds|Mija=0|Minēšana=Nav|Lielo_burtu_lietojums=Sākas_ar_lielo_burtu|Vārdgrupas_nr=21|',\n",
       "      'form': 'Kur',\n",
       "      'index': 1,\n",
       "      'lemma': 'kur',\n",
       "      'parent': 3,\n",
       "      'pos': 'r_p',\n",
       "      'tag': 'r0_',\n",
       "      'ufeats': 'PronType=Int',\n",
       "      'upos': 'ADV'},\n",
       "     {'deprel': 'nsubj',\n",
       "      'features': 'Skaitlis=Vienskaitlis|Vārds=tu|Persona=2|Leksēmas_nr=1100516|Avota_pamatforma=tu|Pamatforma=tu|Galotnes_nr=2329|Noliegums=Nē|Vārdšķira=Vietniekvārds|Mija=0|Vietniekvārda_tips=Personu|Minēšana=Nav|Locījums=Nominatīvs|Dzimte=Nepiemīt|Vārdgrupas_nr=25|',\n",
       "      'form': 'tu',\n",
       "      'index': 2,\n",
       "      'lemma': 'tu',\n",
       "      'parent': 3,\n",
       "      'pos': 'pp20sn_',\n",
       "      'tag': 'pp20snn',\n",
       "      'ufeats': 'Case=Nom|Number=Sing|Person=2|PronType=Prs',\n",
       "      'upos': 'PRON'},\n",
       "     {'deprel': 'root',\n",
       "      'features': 'Laiks=Tagadne|Konjugācija=3|Skaitlis=Vienskaitlis|Šķirkļa_ID=317590|Vārds=teci|Persona=2|Darbības_vārda_tips=Patstāvīgs_darbības_vārds|Šķirkļa_cilvēklasāmais_ID=tecēt:1|Atgriezeniskums=Nē|Parasti_lieto_noteiktā_formā/atvasinājumā=Trešā_persona|Leksēmas_nr=274607|Avota_pamatforma=tecēt|Pamatforma=tecēt|FreeText=parasti_3._pers.,_tek,_pag._tecēja;_intrans.|Galotnes_nr=1780|Noliegums=Nē|Transitivitāte=Nepārejošs|Vārdšķira=Darbības_vārds|Mija=26|Minēšana=Nav|Vārdgrupas_nr=45|Izteiksme=Īstenības|Kārta=Darāmā|',\n",
       "      'form': 'teci',\n",
       "      'index': 3,\n",
       "      'lemma': 'tecēt',\n",
       "      'parent': 0,\n",
       "      'pos': 'vm_ip__2s__',\n",
       "      'tag': 'vmnipi32san',\n",
       "      'ufeats': 'Evident=Fh|Mood=Ind|Number=Sing|Person=2|Polarity=Pos|Tense=Pres|VerbForm=Fin|Voice=Act',\n",
       "      'upos': 'VERB'},\n",
       "     {'deprel': 'punct',\n",
       "      'features': 'Galotnes_nr=2092|Vārds=,|Vārdšķira=Pieturzīme|Pieturzīmes_tips=Komats|Mija=0|Minēšana=Nav|Vārdgrupas_nr=37|Leksēmas_nr=1101237|Avota_pamatforma=,|Pamatforma=,|',\n",
       "      'form': ',',\n",
       "      'index': 4,\n",
       "      'lemma': ',',\n",
       "      'parent': 3,\n",
       "      'pos': 'zc',\n",
       "      'tag': 'zc',\n",
       "      'ufeats': '_',\n",
       "      'upos': 'PUNCT'},\n",
       "     {'deprel': 'obj',\n",
       "      'features': 'Skaitlis=Vienskaitlis|Šķirkļa_ID=86700|Vārds=gailīti|Šķirkļa_cilvēklasāmais_ID=gailis|Leksēmas_nr=73677|Avota_pamatforma=gailis|Pamatforma=gailītis|FreeText=-ļa,_v.|Galotnes_nr=30|Avots=pamazināmo_formu_atvasināšana|Vārdšķira=Lietvārds|Mija=0|Deminutīvs=-īt-|Minēšana=Deminutīvu_atvasināšana|Locījums=Akuzatīvs|Dzimte=Vīriešu|Vārdgrupas_nr=3|Deklinācija=2|',\n",
       "      'form': 'gailīti',\n",
       "      'index': 5,\n",
       "      'lemma': 'gailītis',\n",
       "      'parent': 3,\n",
       "      'pos': 'ncmsa_',\n",
       "      'tag': 'ncmsa2',\n",
       "      'ufeats': 'Case=Acc|Gender=Masc|Number=Sing',\n",
       "      'upos': 'NOUN'},\n",
       "     {'deprel': 'acl',\n",
       "      'features': 'Skaitlis=Vienskaitlis|Vārds=manu|Persona=Nepiemīt|Leksēmas_nr=1100621|Avota_pamatforma=mans|Pamatforma=mans|Galotnes_nr=2329|Noliegums=Nē|Vārdšķira=Vietniekvārds|Mija=0|Vietniekvārda_tips=Piederības|Minēšana=Nav|Locījums=Akuzatīvs|Dzimte=Vīriešu|Vārdgrupas_nr=25|',\n",
       "      'form': 'manu',\n",
       "      'index': 6,\n",
       "      'lemma': 'mans',\n",
       "      'parent': 5,\n",
       "      'pos': 'ps0msa_',\n",
       "      'tag': 'ps0msan',\n",
       "      'ufeats': 'Case=Acc|Gender=Masc|Number=Sing|Poss=Yes|PronType=Prs',\n",
       "      'upos': 'PRON'},\n",
       "     {'deprel': 'punct',\n",
       "      'features': 'Galotnes_nr=2092|Vārds=?|Vārdšķira=Pieturzīme|Pieturzīmes_tips=Punkts|Mija=0|Minēšana=Nav|Vārdgrupas_nr=37|Leksēmas_nr=1101228|Avota_pamatforma=?|Pamatforma=?|',\n",
       "      'form': '?',\n",
       "      'index': 7,\n",
       "      'lemma': '?',\n",
       "      'parent': 3,\n",
       "      'pos': 'zs',\n",
       "      'tag': 'zs',\n",
       "      'ufeats': '_',\n",
       "      'upos': 'PUNCT'}]}],\n",
       "  'text': 'Kur tu teci, gailīti manu?'}}"
      ]
     },
     "execution_count": 20,
     "metadata": {},
     "output_type": "execute_result"
    }
   ],
   "source": [
    "myj"
   ]
  },
  {
   "cell_type": "code",
   "execution_count": 17,
   "metadata": {},
   "outputs": [
    {
     "data": {
      "text/plain": [
       "{'data': {'text': 'Quick brown fox'},\n",
       " 'steps': ['tokenizer', 'morpho', 'parser', 'ner'],\n",
       " 'model': 'default',\n",
       " 'config': None}"
      ]
     },
     "execution_count": 17,
     "metadata": {},
     "output_type": "execute_result"
    }
   ],
   "source": [
    "getData(\"Quick brown fox\", limit=50)"
   ]
  },
  {
   "cell_type": "code",
   "execution_count": null,
   "metadata": {},
   "outputs": [],
   "source": [
    "widgets."
   ]
  },
  {
   "cell_type": "code",
   "execution_count": 16,
   "metadata": {},
   "outputs": [
    {
     "data": {
      "application/vnd.jupyter.widget-view+json": {
       "model_id": "4b5e548cd1d444859bed8f8bfeda6fe2",
       "version_major": 2,
       "version_minor": 0
      },
      "text/plain": [
       "FileUpload(value={}, accept='.txt', description='Upload .txt file to analyze', layout=Layout(width='220px'))"
      ]
     },
     "metadata": {},
     "output_type": "display_data"
    },
    {
     "data": {
      "application/vnd.jupyter.widget-view+json": {
       "model_id": "34c78536929e46f4a1e37d9ec85d31ab",
       "version_major": 2,
       "version_minor": 0
      },
      "text/plain": [
       "Output()"
      ]
     },
     "metadata": {},
     "output_type": "display_data"
    }
   ],
   "source": [
    "uploader = widgets.FileUpload(\n",
    "    description = 'Upload .txt file to analyze',\n",
    "    layout=Layout(width='220px'),\n",
    "    accept='.txt',  # Accepted file extension e.g. '.txt', '.pdf', 'image/*', 'image/*,.pdf'\n",
    "    multiple=False  # True to accept multiple files upload else False\n",
    ")\n",
    "output = widgets.Output()\n",
    "display(uploader, output)"
   ]
  },
  {
   "cell_type": "code",
   "execution_count": 22,
   "metadata": {},
   "outputs": [
    {
     "data": {
      "application/vnd.jupyter.widget-view+json": {
       "model_id": "7233a788df85432e80ea6e475a46de0f",
       "version_major": 2,
       "version_minor": 0
      },
      "text/plain": [
       "FileUpload(value={}, description='Upload')"
      ]
     },
     "metadata": {},
     "output_type": "display_data"
    }
   ],
   "source": [
    "uploader = widgets.FileUpload()\n",
    "display(uploader)"
   ]
  },
  {
   "cell_type": "code",
   "execution_count": 23,
   "metadata": {},
   "outputs": [
    {
     "data": {
      "application/vnd.jupyter.widget-view+json": {
       "model_id": "79dc71655e2a4a0fb970d1f02f13e545",
       "version_major": 2,
       "version_minor": 0
      },
      "text/plain": [
       "ColorPicker(value='blue', description='Pick a color')"
      ]
     },
     "metadata": {},
     "output_type": "display_data"
    }
   ],
   "source": [
    "cpick = widgets.ColorPicker(\n",
    "    concise=False,\n",
    "    description='Pick a color',\n",
    "    value='blue',\n",
    "    disabled=False\n",
    ")\n",
    "display(cpick)"
   ]
  },
  {
   "cell_type": "code",
   "execution_count": 13,
   "metadata": {},
   "outputs": [
    {
     "data": {
      "application/vnd.jupyter.widget-view+json": {
       "model_id": "ca7d92647912487f8e23aee5e579055b",
       "version_major": 2,
       "version_minor": 0
      },
      "text/plain": [
       "FileUpload(value={}, accept='.txt', description='Upload .txt file to analyze', layout=Layout(width='220px'))"
      ]
     },
     "metadata": {},
     "output_type": "display_data"
    },
    {
     "data": {
      "application/vnd.jupyter.widget-view+json": {
       "model_id": "b3d48807fafc4763931d74ac5578f6d5",
       "version_major": 2,
       "version_minor": 0
      },
      "text/plain": [
       "Output()"
      ]
     },
     "metadata": {},
     "output_type": "display_data"
    }
   ],
   "source": [
    "# https://ipywidgets.readthedocs.io/en/latest/examples/Widget%20List.html#File-Upload\n",
    "uploader = widgets.FileUpload(\n",
    "    description = 'Upload .txt file to analyze',\n",
    "    layout=Layout(width='220px'),\n",
    "    accept='.txt',  # Accepted file extension e.g. '.txt', '.pdf', 'image/*', 'image/*,.pdf'\n",
    "    multiple=False  # True to accept multiple files upload else False\n",
    ")\n",
    "output = widgets.Output()\n",
    "display(uploader, output)\n",
    "# [uploaded_file] = uploader.value\n",
    "# print(f\"You've uploaded {uploaded_file}\")\n",
    "# display(int_range, output2)\n",
    "\n",
    "def on_value_change(change):\n",
    "    with output:\n",
    "        global text  #ugly but what can I do\n",
    "        value = change['new']\n",
    "        [uploaded_file] = value\n",
    "        text = codecs.decode(value[uploaded_file]['content'], encoding=\"utf-8\")\n",
    "        tlen = len(text)\n",
    "        bsize = value[uploaded_file]['metadata']['size']\n",
    "        print(f\"You uploaded {uploaded_file}  raw size: {bsize} text length: {tlen}\")\n",
    "\n",
    "uploader.observe(on_value_change, names='value')"
   ]
  },
  {
   "cell_type": "code",
   "execution_count": 9,
   "metadata": {
    "scrolled": true
   },
   "outputs": [
    {
     "data": {
      "text/plain": [
       "0"
      ]
     },
     "execution_count": 9,
     "metadata": {},
     "output_type": "execute_result"
    }
   ],
   "source": [
    "len(text)"
   ]
  },
  {
   "cell_type": "code",
   "execution_count": 10,
   "metadata": {},
   "outputs": [],
   "source": [
    "def getResults(text, offset, limit):\n",
    "    global results\n",
    "    results = getNLP(data=getData(text, offset, limit))\n",
    "    print(f\"Got results of type {type(results)}\")"
   ]
  },
  {
   "cell_type": "code",
   "execution_count": 11,
   "metadata": {},
   "outputs": [
    {
     "data": {
      "application/vnd.jupyter.widget-view+json": {
       "model_id": "5828e45657544595a999b4cfacbf4484",
       "version_major": 2,
       "version_minor": 0
      },
      "text/plain": [
       "interactive(children=(IntSlider(value=50, description='offset'), IntSlider(value=30000, description='limit', m…"
      ]
     },
     "metadata": {},
     "output_type": "display_data"
    }
   ],
   "source": [
    "@interact_manual\n",
    "def manResults(offset=(0,100,1), limit=(10000,50000, 500)):\n",
    "    getResults(text, offset, limit)"
   ]
  },
  {
   "cell_type": "code",
   "execution_count": 12,
   "metadata": {
    "scrolled": true
   },
   "outputs": [
    {
     "data": {
      "application/vnd.jupyter.widget-view+json": {
       "model_id": "9f8d90b58e734caab61d144c343bd1a1",
       "version_major": 2,
       "version_minor": 0
      },
      "text/plain": [
       "interactive(children=(IntSlider(value=0, description='start', max=20, step=40), IntSlider(value=20, descriptio…"
      ]
     },
     "metadata": {},
     "output_type": "display_data"
    }
   ],
   "source": [
    "@interact_manual\n",
    "def showForms(start=(0,20,40), end=20, form=['lemma','form'], upos=['NOUN','VERB','ADJ','ADV']):\n",
    "    words = filterForms(form=form, upos=upos)\n",
    "    cnt = Counter(words)\n",
    "    x = [el[0] for el in cnt.most_common()[start:end]]\n",
    "    y = [el[1] for el in cnt.most_common()[start:end]]\n",
    "    fig = go.Figure(\n",
    "        data=[go.Bar(x=x, y=y)],\n",
    "        layout_title_text=\"Popular lemma\"\n",
    "    )\n",
    "    fig.show()"
   ]
  }
 ],
 "metadata": {
  "kernelspec": {
   "display_name": "Python 3",
   "language": "python",
   "name": "python3"
  },
  "language_info": {
   "codemirror_mode": {
    "name": "ipython",
    "version": 3
   },
   "file_extension": ".py",
   "mimetype": "text/x-python",
   "name": "python",
   "nbconvert_exporter": "python",
   "pygments_lexer": "ipython3",
   "version": "3.7.3"
  }
 },
 "nbformat": 4,
 "nbformat_minor": 4
}
