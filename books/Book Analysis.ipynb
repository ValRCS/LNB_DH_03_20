{
 "cells": [
  {
   "cell_type": "code",
   "execution_count": 12,
   "metadata": {},
   "outputs": [],
   "source": [
    "import os\n",
    "from collections import Counter\n",
    "# external libraries\n",
    "# check if additional installation needed\n",
    "import plotly.graph_objects as go\n",
    "import ipywidgets as widgets\n",
    "from ipywidgets import interact, interact_manual, Layout\n",
    "import nltk\n",
    "from nltk.util import ngrams\n",
    "from nltk.collocations import BigramCollocationFinder\n",
    "from nltk.metrics import BigramAssocMeasures\n",
    "from nltk.tokenize import word_tokenize\n"
   ]
  },
  {
   "cell_type": "code",
   "execution_count": 14,
   "metadata": {},
   "outputs": [
    {
     "name": "stderr",
     "output_type": "stream",
     "text": [
      "[nltk_data] Downloading package punkt to\n",
      "[nltk_data]     C:\\Users\\vsaules\\AppData\\Roaming\\nltk_data...\n",
      "[nltk_data]   Unzipping tokenizers\\punkt.zip.\n"
     ]
    },
    {
     "data": {
      "text/plain": [
       "True"
      ]
     },
     "execution_count": 14,
     "metadata": {},
     "output_type": "execute_result"
    }
   ],
   "source": [
    "nltk.download('punkt')"
   ]
  },
  {
   "cell_type": "code",
   "execution_count": 4,
   "metadata": {},
   "outputs": [
    {
     "data": {
      "text/plain": [
       "['Būris_1972_418664_505980.txt',\n",
       " 'Raksti. 1.sējums_2000_414324_501263.txt',\n",
       " 'Saucēja balss_1973_417064_504344.txt',\n",
       " 'Zemdegas_1977_416430_1041822.txt']"
      ]
     },
     "execution_count": 4,
     "metadata": {},
     "output_type": "execute_result"
    }
   ],
   "source": [
    "booklist = [file for file in os.listdir(\".\") if file.endswith(\".txt\")]\n",
    "booklist"
   ]
  },
  {
   "cell_type": "code",
   "execution_count": null,
   "metadata": {},
   "outputs": [],
   "source": [
    "# different tokenizers\n",
    "# https://www.nltk.org/api/nltk.tokenize.html"
   ]
  },
  {
   "cell_type": "code",
   "execution_count": 28,
   "metadata": {},
   "outputs": [
    {
     "data": {
      "application/vnd.jupyter.widget-view+json": {
       "model_id": "6ef0135d98014b659a4cbd25bd7b73ea",
       "version_major": 2,
       "version_minor": 0
      },
      "text/plain": [
       "interactive(children=(Dropdown(description='bk1', options=('Būris_1972_418664_505980.txt', 'Raksti. 1.sējums_2…"
      ]
     },
     "metadata": {},
     "output_type": "display_data"
    }
   ],
   "source": [
    "@interact_manual\n",
    "def showNGrams(bk1=booklist, bk2=booklist, ngrams=(1,10), percentile=(0,100,10), wordlen=(1,15), maxres=15):\n",
    "    with open(bk1, encoding=\"utf-8\") as f1:\n",
    "        text1 = f1.read()\n",
    "    with open(bk2, encoding=\"utf-8\") as f2:\n",
    "        text2 = f2.read()\n",
    "    tokens1 = word_tokenize(text1)\n",
    "    tokens1 = [el for el in tokens1 if len(el) >= wordlen]\n",
    "    tokens2 = word_tokenize(text2)\n",
    "    tokens2 = [el for el in tokens2 if len(el) >= wordlen]\n",
    "    print(bk1,len(text1), \"Symbols\",len(tokens1), \"Tokens\")\n",
    "    print(bk2,len(text2), \"Symbols\",len(tokens2), \"Tokens\")\n",
    "    word_fd1 = nltk.FreqDist(tokens1)\n",
    "    word_fd2 = nltk.FreqDist(tokens2)\n",
    "    x1 = [x[0] for x in word_fd1.most_common(maxres)]\n",
    "    y1 = [x[1] for x in word_fd1.most_common(maxres)]\n",
    "    x2 = [x[0] for x in word_fd2.most_common(maxres)]\n",
    "    y2 = [x[1] for x in word_fd2.most_common(maxres)]\n",
    "    fig = go.Figure(data=[\n",
    "        go.Bar(name=\"_\".join(bk1.split(\"_\")[:2]), x=x1, y=y1),\n",
    "        go.Bar(name=\"_\".join(bk2.split(\"_\")[:2]), x=x2, y=y2)], )\n",
    "    # Change the bar mode\n",
    "    fig.update_layout(barmode='group')\n",
    "\n",
    "    fig.show()"
   ]
  }
 ],
 "metadata": {
  "kernelspec": {
   "display_name": "Python 3",
   "language": "python",
   "name": "python3"
  },
  "language_info": {
   "codemirror_mode": {
    "name": "ipython",
    "version": 3
   },
   "file_extension": ".py",
   "mimetype": "text/x-python",
   "name": "python",
   "nbconvert_exporter": "python",
   "pygments_lexer": "ipython3",
   "version": "3.7.6"
  }
 },
 "nbformat": 4,
 "nbformat_minor": 4
}
