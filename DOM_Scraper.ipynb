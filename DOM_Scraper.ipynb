{
 "cells": [
  {
   "cell_type": "code",
   "execution_count": 5,
   "metadata": {},
   "outputs": [],
   "source": [
    "import requests\n",
    "from bs4 import BeautifulSoup as bs"
   ]
  },
  {
   "cell_type": "code",
   "execution_count": 6,
   "metadata": {},
   "outputs": [],
   "source": [
    "url = \"https://proc.dom.lndb.lv/DigitalObjects/List?allversions=false&restype=54&boprestype=AND&preciselytitle=false&title=Dadzis&boptitle=AND&lang=42&boplang=AND&datecreatedissued=1971-__-__&bopdatecreatedissued=AND&preciselyisbn=false&preciselyissn=false&preciselycreatedbyuser=false&preciselymodifiedbyuser=false&actualver=1&bopactualver=AND&preciselyfilename=false&selTypeId=1&sortexpr=dateasc\""
   ]
  },
  {
   "cell_type": "code",
   "execution_count": 8,
   "metadata": {},
   "outputs": [
    {
     "name": "stderr",
     "output_type": "stream",
     "text": [
      "C:\\Users\\vsaules\\AppData\\Local\\Continuum\\anaconda3\\lib\\site-packages\\urllib3\\connectionpool.py:1004: InsecureRequestWarning: Unverified HTTPS request is being made to host 'proc.dom.lndb.lv'. Adding certificate verification is strongly advised. See: https://urllib3.readthedocs.io/en/latest/advanced-usage.html#ssl-warnings\n",
      "  InsecureRequestWarning,\n",
      "C:\\Users\\vsaules\\AppData\\Local\\Continuum\\anaconda3\\lib\\site-packages\\urllib3\\connectionpool.py:1004: InsecureRequestWarning: Unverified HTTPS request is being made to host 'proc.dom.lndb.lv'. Adding certificate verification is strongly advised. See: https://urllib3.readthedocs.io/en/latest/advanced-usage.html#ssl-warnings\n",
      "  InsecureRequestWarning,\n"
     ]
    }
   ],
   "source": [
    "r = requests.get(url, verify=False)"
   ]
  },
  {
   "cell_type": "code",
   "execution_count": 9,
   "metadata": {},
   "outputs": [
    {
     "data": {
      "text/plain": [
       "200"
      ]
     },
     "execution_count": 9,
     "metadata": {},
     "output_type": "execute_result"
    }
   ],
   "source": [
    "r.status_code"
   ]
  },
  {
   "cell_type": "code",
   "execution_count": 17,
   "metadata": {},
   "outputs": [
    {
     "data": {
      "text/plain": [
       "b'<!DOCTYPE '"
      ]
     },
     "execution_count": 17,
     "metadata": {},
     "output_type": "execute_result"
    }
   ],
   "source": [
    "r.content[:10]"
   ]
  },
  {
   "cell_type": "code",
   "execution_count": 13,
   "metadata": {},
   "outputs": [
    {
     "data": {
      "text/plain": [
       "<title>LNB Digitālā bibliotēka - DOM</title>"
      ]
     },
     "execution_count": 13,
     "metadata": {},
     "output_type": "execute_result"
    }
   ],
   "source": [
    "soup = bs(r.content, 'lxml')\n",
    "soup.title"
   ]
  },
  {
   "cell_type": "code",
   "execution_count": 18,
   "metadata": {},
   "outputs": [
    {
     "data": {
      "text/plain": [
       "17"
      ]
     },
     "execution_count": 18,
     "metadata": {},
     "output_type": "execute_result"
    }
   ],
   "source": [
    "table = soup.find(\"body\")\n",
    "len(table)"
   ]
  },
  {
   "cell_type": "code",
   "execution_count": 19,
   "metadata": {},
   "outputs": [
    {
     "data": {
      "text/plain": [
       "12"
      ]
     },
     "execution_count": 19,
     "metadata": {},
     "output_type": "execute_result"
    }
   ],
   "source": [
    "divs = soup.find_all(\"div\")\n",
    "len(divs)"
   ]
  },
  {
   "cell_type": "code",
   "execution_count": 20,
   "metadata": {},
   "outputs": [
    {
     "data": {
      "text/plain": [
       "<!DOCTYPE html>\n",
       "<html>\n",
       "<head>\n",
       "<meta content=\"IE=8,9,10\" http-equiv=\"X-UA-Compatible\"/>\n",
       "<meta content=\"text/html; charset=utf-8\" http-equiv=\"Content-Type\"/>\n",
       "<meta charset=\"utf-8\"/>\n",
       "<meta content=\"width=device-width, initial-scale=1.0\" name=\"viewport\"/>\n",
       "<title>LNB Digitālā bibliotēka - DOM</title>\n",
       "<link href=\"/Content/img/favicon.ico\" rel=\"icon\" type=\"image/x-icon\"/>\n",
       "<link href=\"/Content/css?v=mR9M3zf1bdmTyxANnjuUII-BxkRMUIkJuwdXysW2ONs1\" rel=\"stylesheet\"/>\n",
       "<link href=\"/Content/themes/base/css?v=3hCDHv1xIZjIHFdcu3YSFaV_6Q3QptL-1smY6oVLiCo1\" rel=\"stylesheet\"/>\n",
       "<script src=\"/Scripts/modernizr?v=2dGqWrFeqMkvrNXkvk7WJswjh7wUwQ-PgF0b5BydKIU1\"></script>\n",
       "</head>\n",
       "<body>\n",
       "<header>\n",
       "<div class=\"mainHeaderButtons\">\n",
       "<ul class=\"header-table\">\n",
       "<li class=\"selected\">\n",
       "<a href=\"/\">DOM<span class=\"arr-selected\"></span></a>\n",
       "</li>\n",
       "<li>\n",
       "<a href=\"http://dom.lndb.lv\" target=\"_blank\">DOM PIEEJA<span class=\"arr-light-blue\"></span></a>\n",
       "</li>\n",
       "<li>\n",
       "<a href=\"http://gramatas.lndb.lv\" target=\"_blank\">GRĀMATAS<span class=\"arr-red\"></span></a>\n",
       "</li>\n",
       "<li>\n",
       "<a href=\"http://www.periodika.lv\" target=\"_blank\">PERIODIKA<span class=\"arr-green\"></span></a>\n",
       "</li>\n",
       "<li>\n",
       "<a href=\"http://kartes.lndb.lv\" target=\"_blank\">KARTES<span class=\"arr-green\"></span></a>\n",
       "</li>\n",
       "<li>\n",
       "<a href=\"http://webarhivs.lndb.lv\" target=\"_blank\">WWW ARHĪVS<span class=\"arr-red\"></span></a>\n",
       "</li>\n",
       "<li>\n",
       "<a href=\"http://www.lnb.lv/lv/digitala-biblioteka/kolekcijas\" target=\"_blank\">KOLEKCIJAS<span class=\"arr-light-blue\"></span></a>\n",
       "</li>\n",
       "<li>\n",
       "<a href=\"http://laboratorija.lndb.lv\" target=\"_blank\">LABORATORIJA<span class=\"arr-violet\"></span></a>\n",
       "</li>\n",
       "<li>\n",
       "<a href=\"http://lasamkoks.lndb.lv\" target=\"_blank\">LASĀMKOKS<span class=\"arr-green\"></span></a>\n",
       "</li>\n",
       "</ul>\n",
       "</div>\n",
       "<div class=\"clearfix\"></div>\n",
       "<div class=\"container\">\n",
       "<div class=\"subnav header-navbar\">\n",
       "<ul class=\"nav nav-pills\">\n",
       "<li class=\"dropdown disabled\"><a class=\"dropdown-toggle\" href=\"#\">Digitalizācija</a><ul class=\"dropdown-menu\"><li class=\"disabled\"><a href=\"#\">Jauns digitālais objekts</a></li><li class=\"disabled\"><a href=\"#\">Mani digitālie objekti</a></li><li class=\"disabled\"><a href=\"#\">Apstrādes digitālie objekti</a></li></ul></li>\n",
       "<li class=\"disabled\"><a href=\"#\">Objekti</a></li>\n",
       "<li class=\"disabled\"><a href=\"#\">Kolekcijas</a></li>\n",
       "<li class=\"disabled\"><a href=\"#\">Tezauri</a></li>\n",
       "<li class=\"disabled\"><a href=\"#\">Klasifikatori</a></li>\n",
       "<li class=\"disabled\"><a href=\"#\">Datņu pieprasījumi</a></li>\n",
       "<li class=\"dropdown disabled\">\n",
       "<a class=\"dropdown-toggle\" href=\"#\">Administrēšana </a>\n",
       "<ul class=\"dropdown-menu dropdown-menu-level1\">\n",
       "<li><a href=\"/GlobalChange/Progress\">Vairumizmaiņas</a></li>\n",
       "<li>\n",
       "<a href=\"#\">\n",
       "                            Metadati\n",
       "                        <strong class=\"dropdown-menu-caret\">&gt;</strong>\n",
       "</a>\n",
       "<ul class=\"dropdown-menu dropdown-menu-level2\">\n",
       "<li><a href=\"/Administration/DigitalObjectMetadataList\">Digitālie objekti</a></li>\n",
       "<li><a href=\"/Administration/ThesaurusMetadata\">Tezauri</a></li>\n",
       "</ul>\n",
       "</li>\n",
       "<li><a href=\"/DigitalObjectTypes/List\">Digitālo objektu tipi</a></li>\n",
       "<li>\n",
       "<a href=\"#\">\n",
       "                        Konfigurēšana\n",
       "                    <strong class=\"dropdown-menu-caret\">&gt;</strong>\n",
       "</a>\n",
       "<ul class=\"dropdown-menu dropdown-menu-level2\">\n",
       "<li><a href=\"/Administration/Search\">Meklēšana</a></li>\n",
       "</ul>\n",
       "</li>\n",
       "<li><a href=\"/Administration/ReactualizeStateList\">Reaktualizēšanas statuss</a></li>\n",
       "<li><a href=\"/Administration/PublishStateList\">Publicēšanas statuss</a></li>\n",
       "</ul>\n",
       "</li>\n",
       "<li class=\"dropdown disabled\"><a class=\"dropdown-toggle\" href=\"#\">Atskaites</a><ul class=\"dropdown-menu\"><li class=\"disabled\"><a href=\"#\">Auditācijas notikumi</a></li><li class=\"disabled\"><a href=\"#\">Kļūdas</a></li><li class=\"disabled\"><a href=\"#\">Digitālo objektu statistika</a></li><li class=\"disabled\"><a href=\"#\">Digitālo objektu sadalījums pa tipiem</a></li><li class=\"disabled\"><a href=\"#\">Digitālo objektu sadalījums pa gadiem</a></li></ul></li>\n",
       "<li class=\"dropdown\"><a class=\"dropdown-toggle\" data-toggle=\"dropdown\" href=\"#\">Palīdzība<b class=\"caret\"></b></a><ul class=\"dropdown-menu\"><li><a href=\"/Help/About\">Par sistēmu</a></li><li><a href=\"/Help/Manual\">Lietotāja rokasgrāmata</a></li><li class=\"disabled\"><a href=\"#\">Masu ielādes applikācija</a></li></ul></li>\n",
       "</ul>\n",
       "</div>\n",
       "</div>\n",
       "<div class=\"container\">\n",
       "<ul class=\"breadcrumb\">\n",
       "<li>\n",
       "<a href=\"/\">DOM</a>\n",
       "<span class=\"divider\">&gt;</span>\n",
       "</li>\n",
       "<li>\n",
       "                    Pieslēgties\n",
       "\n",
       "            </li>\n",
       "</ul>\n",
       "</div>\n",
       "</header>\n",
       "<div class=\"container\">\n",
       "<a href=\"/Account/FederatedLogOn?returnUrl=%2FDigitalObjects%2FList%3Fallversions%3Dfalse%26restype%3D54%26boprestype%3DAND%26preciselytitle%3Dfalse%26title%3DDadzis%26boptitle%3DAND%26lang%3D42%26boplang%3DAND%26datecreatedissued%3D1971-__-__%26bopdatecreatedissued%3DAND%26preciselyisbn%3Dfalse%26preciselyissn%3Dfalse%26preciselycreatedbyuser%3Dfalse%26preciselymodifiedbyuser%3Dfalse%26actualver%3D1%26bopactualver%3DAND%26preciselyfilename%3Dfalse%26selTypeId%3D1%26sortexpr%3Ddateasc\">Ārējā autentifikācija</a>\n",
       "<br/>\n",
       "<a href=\"/Account/LdapLogOn?returnUrl=%2FDigitalObjects%2FList%3Fallversions%3Dfalse%26restype%3D54%26boprestype%3DAND%26preciselytitle%3Dfalse%26title%3DDadzis%26boptitle%3DAND%26lang%3D42%26boplang%3DAND%26datecreatedissued%3D1971-__-__%26bopdatecreatedissued%3DAND%26preciselyisbn%3Dfalse%26preciselyissn%3Dfalse%26preciselycreatedbyuser%3Dfalse%26preciselymodifiedbyuser%3Dfalse%26actualver%3D1%26bopactualver%3DAND%26preciselyfilename%3Dfalse%26selTypeId%3D1%26sortexpr%3Ddateasc\">LDAP</a>\n",
       "</div>\n",
       "<footer>\n",
       "<div class=\"container footer-container\">\n",
       "<div class=\"footer-favico\">\n",
       "<img alt=\"LNB ikona\" src=\"/Content/img/LNB_favicon.jpg\"/>\n",
       "                © Latvijas Nacionālā bibliotēka\n",
       "            </div>\n",
       "<div class=\"footer-logos\">\n",
       "<img alt=\"ERAF ikona\" src=\"/Content/img/ERAF_logo.jpg\"/>\n",
       "<img alt=\"ES ikona\" src=\"/Content/img/ES_logo.jpg\"/>\n",
       "<p class=\"footer-investment\">Ieguldījums tavā nākotnē!</p>\n",
       "</div>\n",
       "<div class=\"footer-links\">\n",
       "<a href=\"/Help/AboutLibrary\">Par LNB Digitālo bibliotēku</a>\n",
       "<span class=\"seperator\">|</span>\n",
       "<a href=\"/Help/Terms\">Lietošanas noteikumi</a>\n",
       "<span class=\"seperator\">|</span>\n",
       "<a href=\"/Help/Contacts\">Kontakti</a>\n",
       "</div>\n",
       "</div>\n",
       "</footer>\n",
       "<div class=\"loading-block-layer\"></div>\n",
       "<div class=\"loading-info-message\">\n",
       "<h3><img alt=\"\" src=\"/Content/img/loader.gif\"/> Lūdzu uzgaidiet</h3>\n",
       "</div>\n",
       "<input id=\"rootPath\" type=\"hidden\" value=\"/\"/>\n",
       "<script src=\"/Scripts/js-core?v=MOefG7IUFL6Ga5e2KXsZn0BDXXMP6oLeMnZXTaL_5QM1\"></script>\n",
       "<script src=\"/Scripts/js?v=ckRfyU2xNsFEabzm40gbzUhGqJ8_Z_wuxByQXhk-Ml41\"></script>\n",
       "</body>\n",
       "</html>"
      ]
     },
     "execution_count": 20,
     "metadata": {},
     "output_type": "execute_result"
    }
   ],
   "source": [
    "soup"
   ]
  }
 ],
 "metadata": {
  "kernelspec": {
   "display_name": "Python 3",
   "language": "python",
   "name": "python3"
  },
  "language_info": {
   "codemirror_mode": {
    "name": "ipython",
    "version": 3
   },
   "file_extension": ".py",
   "mimetype": "text/x-python",
   "name": "python",
   "nbconvert_exporter": "python",
   "pygments_lexer": "ipython3",
   "version": "3.7.6"
  }
 },
 "nbformat": 4,
 "nbformat_minor": 4
}
