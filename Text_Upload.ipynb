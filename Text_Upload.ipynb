{
 "cells": [
  {
   "cell_type": "markdown",
   "metadata": {},
   "source": [
    "# Upload Files and Process them"
   ]
  },
  {
   "cell_type": "code",
   "execution_count": 1,
   "metadata": {},
   "outputs": [],
   "source": [
    "# set up libraries\n",
    "import requests\n",
    "import json\n",
    "import os\n",
    "from datetime import datetime\n",
    "import time\n",
    "import codecs\n",
    "\n",
    "import ipywidgets as widgets\n",
    "from ipywidgets import Button, Layout\n",
    "from traitlets import link"
   ]
  },
  {
   "cell_type": "code",
   "execution_count": 111,
   "metadata": {},
   "outputs": [],
   "source": [
    "def getFiles(ftypes=None):\n",
    "    if ftypes is None:\n",
    "        return os.listdir()\n",
    "    else:\n",
    "        if type(ftypes) == str:\n",
    "            ftypes = [ftypes]\n",
    "        return [f for f in os.listdir() if f.endswith(tuple(ftypes))]"
   ]
  },
  {
   "cell_type": "code",
   "execution_count": 113,
   "metadata": {},
   "outputs": [
    {
     "data": {
      "text/plain": [
       "['.git', 'ZeltaZirgs.txt']"
      ]
     },
     "execution_count": 113,
     "metadata": {},
     "output_type": "execute_result"
    }
   ],
   "source": [
    "getFiles((\"txt\",\".git\"))"
   ]
  },
  {
   "cell_type": "code",
   "execution_count": 106,
   "metadata": {},
   "outputs": [
    {
     "data": {
      "text/plain": [
       "str"
      ]
     },
     "execution_count": 106,
     "metadata": {},
     "output_type": "execute_result"
    }
   ],
   "source": [
    "type(\"txt\")"
   ]
  },
  {
   "cell_type": "code",
   "execution_count": 114,
   "metadata": {},
   "outputs": [
    {
     "data": {
      "text/plain": [
       "['Accessing nlp.ailab.lv.ipynb',\n",
       " 'Corpus Analyzer.ipynb',\n",
       " 'DOM_Scraper.ipynb',\n",
       " 'environment.yml',\n",
       " 'LNB PDF to Text.ipynb',\n",
       " 'Setting Up Plotly.ipynb',\n",
       " 'Text_to_AILAB_JSON.ipynb',\n",
       " 'Text_Upload.ipynb',\n",
       " 'Untitled1.ipynb',\n",
       " 'Untitled2.ipynb',\n",
       " 'Visualiza Collocations.ipynb',\n",
       " 'Visualize Collocations F9.ipynb',\n",
       " 'ZeltaZirgs.txt']"
      ]
     },
     "execution_count": 114,
     "metadata": {},
     "output_type": "execute_result"
    }
   ],
   "source": [
    "myf = getFiles([\".txt\", \".ipynb\",\".yml\"])\n",
    "myf"
   ]
  },
  {
   "cell_type": "code",
   "execution_count": 115,
   "metadata": {},
   "outputs": [],
   "source": [
    "flist = getFiles()"
   ]
  },
  {
   "cell_type": "code",
   "execution_count": 116,
   "metadata": {},
   "outputs": [
    {
     "data": {
      "text/plain": [
       "['.git',\n",
       " '.gitignore',\n",
       " '.ipynb_checkpoints',\n",
       " '258454.pdf',\n",
       " '4.5.2',\n",
       " '550275',\n",
       " '550275None.pdf',\n",
       " 'Accessing nlp.ailab.lv.ipynb',\n",
       " 'AGENDA.md',\n",
       " 'Authors.md',\n",
       " 'books',\n",
       " 'Corpus Analyzer.ipynb',\n",
       " 'docs',\n",
       " 'DOM_Scraper.ipynb',\n",
       " 'environment.yml',\n",
       " 'LICENSE',\n",
       " 'LNB PDF to Text.ipynb',\n",
       " 'README.md',\n",
       " 'Setting Up Plotly.ipynb',\n",
       " 'Text_to_AILAB_JSON.ipynb',\n",
       " 'Text_Upload.ipynb',\n",
       " 'TODO.md',\n",
       " 'Untitled1.ipynb',\n",
       " 'Untitled2.ipynb',\n",
       " 'Visualiza Collocations.ipynb',\n",
       " 'Visualize Collocations F9.ipynb',\n",
       " 'ZeltaZirgs.pdf',\n",
       " 'ZeltaZirgs.txt']"
      ]
     },
     "execution_count": 116,
     "metadata": {},
     "output_type": "execute_result"
    }
   ],
   "source": [
    "flist"
   ]
  },
  {
   "cell_type": "code",
   "execution_count": 75,
   "metadata": {},
   "outputs": [
    {
     "data": {
      "application/vnd.jupyter.widget-view+json": {
       "model_id": "559315884a464ccb88f71cd8e0a17c1a",
       "version_major": 2,
       "version_minor": 0
      },
      "text/plain": [
       "FileUpload(value={}, description='Upload', multiple=True)"
      ]
     },
     "metadata": {},
     "output_type": "display_data"
    }
   ],
   "source": [
    "uploads = widgets.FileUpload(\n",
    "    multiple=True\n",
    ")\n",
    "display(uploads)\n",
    "\n",
    "def on_new_upload(change):\n",
    "    out.clear_output(wait=True)\n",
    "    with out:\n",
    "#         print(change.keys())\n",
    "#         print(change['new'].keys())\n",
    "        for key,value in change['new'].items():\n",
    "            print(f\"Saving {key} size: {value['metadata']['size']} bytes\")\n",
    "            with open(key, 'wb') as f:\n",
    "                f.write(value['content'])\n",
    "    global flist\n",
    "    flist = getFiles()\n",
    "uploads.observe(on_new_upload, names='value')"
   ]
  },
  {
   "cell_type": "code",
   "execution_count": 117,
   "metadata": {},
   "outputs": [
    {
     "data": {
      "application/vnd.jupyter.widget-view+json": {
       "model_id": "162922e9453e4c9e91e153a4dc729bc8",
       "version_major": 2,
       "version_minor": 0
      },
      "text/plain": [
       "Dropdown(description='Number:', options=('ZeltaZirgs.txt',), value=None)"
      ]
     },
     "metadata": {},
     "output_type": "display_data"
    }
   ],
   "source": [
    "flist = getFiles(ftypes=[\"txt\"])\n",
    "fileSelect = widgets.Dropdown(\n",
    "    options=flist,\n",
    "    value=None,\n",
    "    description='Number:',\n",
    "    disabled=False,\n",
    ")\n",
    "display(fileSelect)"
   ]
  },
  {
   "cell_type": "code",
   "execution_count": 124,
   "metadata": {},
   "outputs": [
    {
     "data": {
      "application/vnd.jupyter.widget-view+json": {
       "model_id": "bdccd726508a4da688b3df8c66fc274d",
       "version_major": 2,
       "version_minor": 0
      },
      "text/plain": [
       "Button(button_style='info', description='Process Files', icon='check', style=ButtonStyle(), tooltip='Click me'…"
      ]
     },
     "metadata": {},
     "output_type": "display_data"
    },
    {
     "name": "stdout",
     "output_type": "stream",
     "text": [
      "Processing ZeltaZirgs.txt\n",
      "Processing ZeltaZirgs.txt\n",
      "Processing ZeltaZirgs.txt\n",
      "Processing ZeltaZirgs.txt\n",
      "Processing ZeltaZirgs.txt\n",
      "Processing ZeltaZirgs.txt\n",
      "Processing ZeltaZirgs.txt\n",
      "Processing ZeltaZirgs.txt\n",
      "Processing ZeltaZirgs.txt\n"
     ]
    }
   ],
   "source": [
    "procBtn = widgets.Button(\n",
    "    description='Process Files',\n",
    "    disabled=False,\n",
    "    button_style='info', # 'success', 'info', 'warning', 'danger' or ''\n",
    "    tooltip='Click me',\n",
    "    icon='check' # (FontAwesome names without the `fa-` prefix)\n",
    ")\n",
    "display(procBtn)\n",
    "\n",
    "def on_click(change):\n",
    "    print(\"Processing\", fileSelect.value)\n",
    "    \n",
    "procBtn.on_click(on_click)"
   ]
  },
  {
   "cell_type": "code",
   "execution_count": 29,
   "metadata": {},
   "outputs": [
    {
     "data": {
      "application/vnd.jupyter.widget-view+json": {
       "model_id": "99adc1dc34ba43afaefbce51cd81f41c",
       "version_major": 2,
       "version_minor": 0
      },
      "text/plain": [
       "Output(layout=Layout(border='1px solid black', height='250px', overflow_y='auto'))"
      ]
     },
     "metadata": {},
     "output_type": "display_data"
    }
   ],
   "source": [
    "out = widgets.Output(layout={'border': '1px solid black', 'height':'250px', 'overflow_y':'auto'}) # scrollable with overflow_y!\n",
    "display(out)"
   ]
  },
  {
   "cell_type": "code",
   "execution_count": 57,
   "metadata": {},
   "outputs": [],
   "source": [
    "for _ in range(5):\n",
    "    with out:\n",
    "        print(\"Helloff\")"
   ]
  },
  {
   "cell_type": "code",
   "execution_count": 47,
   "metadata": {},
   "outputs": [
    {
     "data": {
      "application/vnd.jupyter.widget-view+json": {
       "model_id": "99adc1dc34ba43afaefbce51cd81f41c",
       "version_major": 2,
       "version_minor": 0
      },
      "text/plain": [
       "Output(layout=Layout(border='1px solid black', height='250px', overflow_y='auto'), outputs=({'output_type': 's…"
      ]
     },
     "metadata": {},
     "output_type": "display_data"
    }
   ],
   "source": [
    "out.clear_output(wait=True)\n",
    "display(out)"
   ]
  }
 ],
 "metadata": {
  "kernelspec": {
   "display_name": "Python 3",
   "language": "python",
   "name": "python3"
  },
  "language_info": {
   "codemirror_mode": {
    "name": "ipython",
    "version": 3
   },
   "file_extension": ".py",
   "mimetype": "text/x-python",
   "name": "python",
   "nbconvert_exporter": "python",
   "pygments_lexer": "ipython3",
   "version": "3.7.6"
  }
 },
 "nbformat": 4,
 "nbformat_minor": 4
}
